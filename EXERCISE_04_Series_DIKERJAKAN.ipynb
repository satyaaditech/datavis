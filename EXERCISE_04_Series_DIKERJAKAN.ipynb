{
 "cells": [
  {
   "cell_type": "markdown",
   "id": "fd53be39",
   "metadata": {},
   "source": [
    "# Series Basics Exercise\n",
    "\n",
    "**Work with the `bestsellers.csv` dataset to answer the following questions:**"
   ]
  },
  {
   "cell_type": "markdown",
   "id": "bf9e627e",
   "metadata": {},
   "source": [
    "## Part 1\n",
    "* Retrieve a series that contains the book Names\n",
    "* Retrieve a series that contains the User Ratings\n",
    "* Retrieve the first 8 Authors"
   ]
  },
  {
   "cell_type": "code",
   "execution_count": 7,
   "id": "aafe3c0c",
   "metadata": {},
   "outputs": [
    {
     "data": {
      "text/plain": [
       "0                          10-Day Green Smoothie Cleanse\n",
       "1                                      11/22/63: A Novel\n",
       "2                12 Rules for Life: An Antidote to Chaos\n",
       "3                                 1984 (Signet Classics)\n",
       "4      5,000 Awesome Facts (About Everything!) (Natio...\n",
       "                             ...                        \n",
       "545         Wrecking Ball (Diary of a Wimpy Kid Book 14)\n",
       "546    You Are a Badass: How to Stop Doubting Your Gr...\n",
       "547    You Are a Badass: How to Stop Doubting Your Gr...\n",
       "548    You Are a Badass: How to Stop Doubting Your Gr...\n",
       "549    You Are a Badass: How to Stop Doubting Your Gr...\n",
       "Name: Name, Length: 550, dtype: object"
      ]
     },
     "execution_count": 7,
     "metadata": {},
     "output_type": "execute_result"
    }
   ],
   "source": [
    "#Retrieve a series that contains the book Names\n",
    "import pandas as pd\n",
    "bestsellers=pd.read_csv('data/bestsellers.csv')\n",
    "bestsellers['Name']"
   ]
  },
  {
   "cell_type": "code",
   "execution_count": 9,
   "id": "c1095f99-c938-4048-b072-0c17a2ffa3fc",
   "metadata": {},
   "outputs": [
    {
     "data": {
      "text/plain": [
       "0      4.7\n",
       "1      4.6\n",
       "2      4.7\n",
       "3      4.7\n",
       "4      4.8\n",
       "      ... \n",
       "545    4.9\n",
       "546    4.7\n",
       "547    4.7\n",
       "548    4.7\n",
       "549    4.7\n",
       "Name: User Rating, Length: 550, dtype: float64"
      ]
     },
     "execution_count": 9,
     "metadata": {},
     "output_type": "execute_result"
    }
   ],
   "source": [
    "#Retrieve a series that contains the User Ratings\n",
    "bestsellers['User Rating']"
   ]
  },
  {
   "cell_type": "code",
   "execution_count": 10,
   "id": "f8fbbef3-643f-4c66-a1bd-f251ba6e9715",
   "metadata": {},
   "outputs": [
    {
     "data": {
      "text/plain": [
       "0                    JJ Smith\n",
       "1                Stephen King\n",
       "2          Jordan B. Peterson\n",
       "3               George Orwell\n",
       "4    National Geographic Kids\n",
       "5         George R. R. Martin\n",
       "6         George R. R. Martin\n",
       "7                 Amor Towles\n",
       "Name: Author, dtype: object"
      ]
     },
     "execution_count": 10,
     "metadata": {},
     "output_type": "execute_result"
    }
   ],
   "source": [
    "#Retrieve the first 8 Authors\n",
    "bestsellers['Author'].head(8)"
   ]
  },
  {
   "cell_type": "markdown",
   "id": "2f778d1b",
   "metadata": {},
   "source": [
    "## Part 2\n",
    "* Find the unique Genres\n",
    "* Find the number of unique Authors\n",
    "* Find the average Price\n",
    "* Find the 10 highest prices"
   ]
  },
  {
   "cell_type": "code",
   "execution_count": 13,
   "id": "e78d09d2",
   "metadata": {},
   "outputs": [
    {
     "data": {
      "text/plain": [
       "Non Fiction    310\n",
       "Fiction        240\n",
       "Name: Genre, dtype: int64"
      ]
     },
     "execution_count": 13,
     "metadata": {},
     "output_type": "execute_result"
    }
   ],
   "source": [
    "#Find the unique Genres\n",
    "bestsellers['Genre'].value_counts()"
   ]
  },
  {
   "cell_type": "code",
   "execution_count": 48,
   "id": "0395571c-a065-4161-bfb1-394ced7ee9c1",
   "metadata": {},
   "outputs": [
    {
     "data": {
      "text/plain": [
       "array(['Non Fiction', 'Fiction'], dtype=object)"
      ]
     },
     "execution_count": 48,
     "metadata": {},
     "output_type": "execute_result"
    }
   ],
   "source": [
    "bestsellers.Genre.unique()"
   ]
  },
  {
   "cell_type": "code",
   "execution_count": 49,
   "id": "5d6383f0-5178-4761-8ef1-f86b58fdb3ec",
   "metadata": {},
   "outputs": [
    {
     "data": {
      "text/plain": [
       "248"
      ]
     },
     "execution_count": 49,
     "metadata": {},
     "output_type": "execute_result"
    }
   ],
   "source": [
    "#Find the number of unique Authors\n",
    "bestsellers.Author.nunique()"
   ]
  },
  {
   "cell_type": "code",
   "execution_count": 15,
   "id": "336b87ac-0982-4544-bbd5-8b64f52f776b",
   "metadata": {},
   "outputs": [
    {
     "data": {
      "text/plain": [
       "13.1"
      ]
     },
     "execution_count": 15,
     "metadata": {},
     "output_type": "execute_result"
    }
   ],
   "source": [
    "#Find the average Price\n",
    "bestsellers.Price.mean()"
   ]
  },
  {
   "cell_type": "code",
   "execution_count": 20,
   "id": "b514632e-86c4-4c20-9d26-beee7e2e411e",
   "metadata": {},
   "outputs": [
    {
     "data": {
      "text/plain": [
       "69     105\n",
       "70     105\n",
       "473     82\n",
       "151     54\n",
       "346     53\n",
       "159     52\n",
       "271     46\n",
       "272     46\n",
       "273     46\n",
       "274     46\n",
       "Name: Price, dtype: int64"
      ]
     },
     "execution_count": 20,
     "metadata": {},
     "output_type": "execute_result"
    }
   ],
   "source": [
    "#Find the 10 highest prices\n",
    "bestsellers.Price.nlargest(10)"
   ]
  },
  {
   "cell_type": "markdown",
   "id": "0df37adf",
   "metadata": {},
   "source": [
    "houses.bedrooms.value_counts().plot()houses.bedrooms.value_counts().plot()## Part 3\n",
    "* Find the top 3 most common book titles in the dataset\n",
    "* Create a new dataframe with only Author and User Rating.\n",
    "* Using the new dataframe, find the most common combination of Author and User Rating Score."
   ]
  },
  {
   "cell_type": "code",
   "execution_count": 23,
   "id": "b5b1cde1",
   "metadata": {},
   "outputs": [
    {
     "data": {
      "text/plain": [
       "Publication Manual of the American Psychological Association, 6th Edition    10\n",
       "StrengthsFinder 2.0                                                           9\n",
       "Oh, the Places You'll Go!                                                     8\n",
       "Name: Name, dtype: int64"
      ]
     },
     "execution_count": 23,
     "metadata": {},
     "output_type": "execute_result"
    }
   ],
   "source": [
    "#Find the top 3 most common book titles in the dataset\n",
    "bestsellers.Name.value_counts().head(3)"
   ]
  },
  {
   "cell_type": "code",
   "execution_count": 25,
   "id": "6e41854d-c44e-4ca2-8c95-2d83ea316a2f",
   "metadata": {},
   "outputs": [
    {
     "data": {
      "text/html": [
       "<div>\n",
       "<style scoped>\n",
       "    .dataframe tbody tr th:only-of-type {\n",
       "        vertical-align: middle;\n",
       "    }\n",
       "\n",
       "    .dataframe tbody tr th {\n",
       "        vertical-align: top;\n",
       "    }\n",
       "\n",
       "    .dataframe thead th {\n",
       "        text-align: right;\n",
       "    }\n",
       "</style>\n",
       "<table border=\"1\" class=\"dataframe\">\n",
       "  <thead>\n",
       "    <tr style=\"text-align: right;\">\n",
       "      <th></th>\n",
       "      <th>Author</th>\n",
       "      <th>User Rating</th>\n",
       "    </tr>\n",
       "  </thead>\n",
       "  <tbody>\n",
       "    <tr>\n",
       "      <th>0</th>\n",
       "      <td>JJ Smith</td>\n",
       "      <td>4.7</td>\n",
       "    </tr>\n",
       "    <tr>\n",
       "      <th>1</th>\n",
       "      <td>Stephen King</td>\n",
       "      <td>4.6</td>\n",
       "    </tr>\n",
       "    <tr>\n",
       "      <th>2</th>\n",
       "      <td>Jordan B. Peterson</td>\n",
       "      <td>4.7</td>\n",
       "    </tr>\n",
       "    <tr>\n",
       "      <th>3</th>\n",
       "      <td>George Orwell</td>\n",
       "      <td>4.7</td>\n",
       "    </tr>\n",
       "    <tr>\n",
       "      <th>4</th>\n",
       "      <td>National Geographic Kids</td>\n",
       "      <td>4.8</td>\n",
       "    </tr>\n",
       "    <tr>\n",
       "      <th>...</th>\n",
       "      <td>...</td>\n",
       "      <td>...</td>\n",
       "    </tr>\n",
       "    <tr>\n",
       "      <th>545</th>\n",
       "      <td>Jeff Kinney</td>\n",
       "      <td>4.9</td>\n",
       "    </tr>\n",
       "    <tr>\n",
       "      <th>546</th>\n",
       "      <td>Jen Sincero</td>\n",
       "      <td>4.7</td>\n",
       "    </tr>\n",
       "    <tr>\n",
       "      <th>547</th>\n",
       "      <td>Jen Sincero</td>\n",
       "      <td>4.7</td>\n",
       "    </tr>\n",
       "    <tr>\n",
       "      <th>548</th>\n",
       "      <td>Jen Sincero</td>\n",
       "      <td>4.7</td>\n",
       "    </tr>\n",
       "    <tr>\n",
       "      <th>549</th>\n",
       "      <td>Jen Sincero</td>\n",
       "      <td>4.7</td>\n",
       "    </tr>\n",
       "  </tbody>\n",
       "</table>\n",
       "<p>550 rows × 2 columns</p>\n",
       "</div>"
      ],
      "text/plain": [
       "                       Author  User Rating\n",
       "0                    JJ Smith          4.7\n",
       "1                Stephen King          4.6\n",
       "2          Jordan B. Peterson          4.7\n",
       "3               George Orwell          4.7\n",
       "4    National Geographic Kids          4.8\n",
       "..                        ...          ...\n",
       "545               Jeff Kinney          4.9\n",
       "546               Jen Sincero          4.7\n",
       "547               Jen Sincero          4.7\n",
       "548               Jen Sincero          4.7\n",
       "549               Jen Sincero          4.7\n",
       "\n",
       "[550 rows x 2 columns]"
      ]
     },
     "execution_count": 25,
     "metadata": {},
     "output_type": "execute_result"
    }
   ],
   "source": [
    "#Create a new dataframe with only Author and User Rating.\n",
    "Aurat=bestsellers[[\"Author\",\"User Rating\"]]\n",
    "Aurat"
   ]
  },
  {
   "cell_type": "code",
   "execution_count": 26,
   "id": "4a26cd7e-3e1d-42ed-85d7-6fbc6de1b632",
   "metadata": {},
   "outputs": [
    {
     "data": {
      "text/plain": [
       "Author                              User Rating\n",
       "Jeff Kinney                         4.8            10\n",
       "American Psychological Association  4.5            10\n",
       "Gallup                              4.0             9\n",
       "Rick Riordan                        4.8             9\n",
       "Dr. Seuss                           4.9             8\n",
       "                                                   ..\n",
       "Ken Follett                         4.5             1\n",
       "Kevin Kwan                          4.3             1\n",
       "Khaled Hosseini                     4.3             1\n",
       "DK                                  4.5             1\n",
       "Jeff Kinney                         4.9             1\n",
       "Length: 301, dtype: int64"
      ]
     },
     "execution_count": 26,
     "metadata": {},
     "output_type": "execute_result"
    }
   ],
   "source": [
    "#Using the new dataframe, find the most common combination of Author and User Rating Score.\n",
    "\n",
    "Aurat.value_counts()"
   ]
  },
  {
   "cell_type": "markdown",
   "id": "ab43956b",
   "metadata": {},
   "source": [
    "## Part 4\n",
    "* Create a pie chart showing the total number of times each Genre appears in the dataset.\n",
    "* Find out the top 10 most prolific authors and plot their number of books as a bar plot\n",
    "* BONUS: create a histogram showing the distribution of User Rating scores"
   ]
  },
  {
   "cell_type": "code",
   "execution_count": 28,
   "id": "a0b7b790",
   "metadata": {},
   "outputs": [
    {
     "data": {
      "text/plain": [
       "<AxesSubplot: ylabel='Genre'>"
      ]
     },
     "execution_count": 28,
     "metadata": {},
     "output_type": "execute_result"
    },
    {
     "data": {
      "image/png": "[encoded data removed]",
      "text/plain": [
       "<Figure size 640x480 with 1 Axes>"
      ]
     },
     "metadata": {},
     "output_type": "display_data"
    }
   ],
   "source": [
    "#Create a pie chart showing the total number of times each Genre appears in the dataset.\n",
    "bestsellers.Genre.value_counts().plot(kind='pie')"
   ]
  },
  {
   "cell_type": "code",
   "execution_count": 55,
   "id": "b0adc5d5-5387-4f81-839d-6c75d9e3a32f",
   "metadata": {},
   "outputs": [
    {
     "data": {
      "text/plain": [
       "<AxesSubplot: >"
      ]
     },
     "execution_count": 55,
     "metadata": {},
     "output_type": "execute_result"
    },
    {
     "data": {
      "image/png": "[encoded data removed]",
      "text/plain": [
       "<Figure size 640x480 with 1 Axes>"
      ]
     },
     "metadata": {},
     "output_type": "display_data"
    }
   ],
   "source": [
    "#Find out the top 10 most prolific authors and plot their number of books as a bar plot\n",
    "bestsellers.Author.value_counts().head(10).plot(kind='barh')"
   ]
  },
  {
   "cell_type": "code",
   "execution_count": 56,
   "id": "ed6334eb-2be4-40cd-b317-558faf7d28e6",
   "metadata": {},
   "outputs": [
    {
     "data": {
      "text/plain": [
       "<AxesSubplot: ylabel='Frequency'>"
      ]
     },
     "execution_count": 56,
     "metadata": {},
     "output_type": "execute_result"
    },
    {
     "data": {
      "image/png": "[encoded data removed]",
      "text/plain": [
       "<Figure size 640x480 with 1 Axes>"
      ]
     },
     "metadata": {},
     "output_type": "display_data"
    }
   ],
   "source": [
    "#BONUS: create a histogram showing the distribution of User Rating scores\n",
    "bestsellers['User Rating'].plot(kind='hist')"
   ]
  },
  {
   "cell_type": "code",
   "execution_count": null,
   "id": "0b9292ce-6118-4da1-8ea5-154719dc135a",
   "metadata": {},
   "outputs": [],
   "source": [
    "#"
   ]
  }
 ],
 "metadata": {
  "kernelspec": {
   "display_name": "Python 3 (ipykernel)",
   "language": "python",
   "name": "python3"
  },
  "language_info": {
   "codemirror_mode": {
    "name": "ipython",
    "version": 3
   },
   "file_extension": ".py",
   "mimetype": "text/x-python",
   "name": "python",
   "nbconvert_exporter": "python",
   "pygments_lexer": "ipython3",
   "version": "3.8.5"
  }
 },
 "nbformat": 4,
 "nbformat_minor": 5
}
